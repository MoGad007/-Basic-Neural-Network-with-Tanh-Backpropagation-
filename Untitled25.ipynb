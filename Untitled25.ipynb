{
 "cells": [
  {
   "cell_type": "code",
   "execution_count": 3,
   "id": "7dd8610d-df7f-4739-8e6b-9f367de26a56",
   "metadata": {},
   "outputs": [
    {
     "name": "stdout",
     "output_type": "stream",
     "text": [
      "Final output of the neural network: 0.7900728947073272\n",
      "Total steps taken: 111\n"
     ]
    }
   ],
   "source": [
    "import random\n",
    "import math\n",
    "\n",
    "# Define the tanh activation function and its derivative\n",
    "def tanh(x):\n",
    "    return (math.exp(x) - math.exp(-x)) / (math.exp(x) + math.exp(-x))\n",
    "\n",
    "def tanh_derivative(x):\n",
    "    return 1 - tanh(x) ** 2\n",
    "\n",
    "# Initialize weights randomly in the range [-0.5, 0.5]\n",
    "def initialize_weights():\n",
    "    return random.uniform(-0.5, 0.5)\n",
    "\n",
    "w1, w2, w3, w4 = initialize_weights(), initialize_weights(), initialize_weights(), initialize_weights()\n",
    "w5, w6 = initialize_weights(), initialize_weights()\n",
    "\n",
    "# Bias values\n",
    "b1 = 0.5\n",
    "b2 = 0.7\n",
    "\n",
    "# Input values (example)\n",
    "x1 = 0.3\n",
    "x2 = -0.2\n",
    "\n",
    "target_output = 0.8  # Target output to reach\n",
    "epsilon = 0.01  # Acceptable error margin\n",
    "learning_rate = 0.1  # Learning rate for weight updates\n",
    "\n",
    "# Counter for steps\n",
    "steps = 0\n",
    "\n",
    "# Training loop\n",
    "while True:\n",
    "    steps += 1  # Increment step counter\n",
    "    \n",
    "    # Forward pass - Compute hidden layer neuron output\n",
    "    h1_input = w1 * x1 + w2 * x2 + b1\n",
    "    h2_input = w3 * x1 + w4 * x2 + b1\n",
    "    h1 = tanh(h1_input)\n",
    "    h2 = tanh(h2_input)\n",
    "    \n",
    "    # Compute final output\n",
    "    o_input = w5 * h1 + w6 * h2 + b2\n",
    "    o = tanh(o_input)\n",
    "    \n",
    "    # Compute error\n",
    "    error = target_output - o\n",
    "    \n",
    "    # Check if the output is close enough to the target\n",
    "    if abs(error) < epsilon:\n",
    "        break\n",
    "    \n",
    "    # Backpropagation - Compute gradients\n",
    "    o_delta = error * tanh_derivative(o_input)  # Output layer delta\n",
    "    \n",
    "    h1_delta = o_delta * w5 * tanh_derivative(h1_input)  # Hidden layer deltas\n",
    "    h2_delta = o_delta * w6 * tanh_derivative(h2_input)\n",
    "    \n",
    "    # Update weights using gradient descent\n",
    "    w5 += learning_rate * o_delta * h1\n",
    "    w6 += learning_rate * o_delta * h2\n",
    "    w1 += learning_rate * h1_delta * x1\n",
    "    w2 += learning_rate * h1_delta * x2\n",
    "    w3 += learning_rate * h2_delta * x1\n",
    "    w4 += learning_rate * h2_delta * x2\n",
    "    \n",
    "    # Update biases\n",
    "    b1 += learning_rate * (h1_delta + h2_delta)\n",
    "    b2 += learning_rate * o_delta\n",
    "\n",
    "# Print output and step count\n",
    "print(\"Final output of the neural network:\", o)\n",
    "print(\"Total steps taken:\", steps)"
   ]
  },
  {
   "cell_type": "code",
   "execution_count": null,
   "id": "f64a0b96-e503-42ae-b94e-4809a69a0f2c",
   "metadata": {},
   "outputs": [],
   "source": []
  }
 ],
 "metadata": {
  "kernelspec": {
   "display_name": "Python 3 (ipykernel)",
   "language": "python",
   "name": "python3"
  },
  "language_info": {
   "codemirror_mode": {
    "name": "ipython",
    "version": 3
   },
   "file_extension": ".py",
   "mimetype": "text/x-python",
   "name": "python",
   "nbconvert_exporter": "python",
   "pygments_lexer": "ipython3",
   "version": "3.11.4"
  }
 },
 "nbformat": 4,
 "nbformat_minor": 5
}
